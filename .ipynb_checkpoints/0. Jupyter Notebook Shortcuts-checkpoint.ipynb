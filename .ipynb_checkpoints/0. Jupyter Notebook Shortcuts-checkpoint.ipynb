{
 "cells": [
  {
   "cell_type": "markdown",
   "metadata": {},
   "source": [
    "1. The Esc Key turns the activated cell from edit mode to command mode"
   ]
  },
  {
   "cell_type": "markdown",
   "metadata": {},
   "source": [
    "# Shortcuts of Command Mode:\n",
    "    1. Pressing H displays keyboard shortcuts\n",
    "    2. Press B to insert cell below\n",
    "    3. Press A to insert cell above \n",
    "    4. Press DD to delete cell"
   ]
  },
  {
   "cell_type": "markdown",
   "metadata": {},
   "source": [
    "# Shortcuts of Edit Mode:\n",
    "    1. Pressing Tab shows all the attributes and methods in the object\n",
    "    2. Press Shift+Tab to Signature and Docstring of the function\n",
    "    3. Pressing Ctrl+/ turns a line into comment\n",
    "    4. We can remove a comment by the above\n",
    "    5. Press Ctrl+Enter to run the same cell wihout moving to the next"
   ]
  }
 ],
 "metadata": {
  "kernelspec": {
   "display_name": "Python 3",
   "language": "python",
   "name": "python3"
  },
  "language_info": {
   "codemirror_mode": {
    "name": "ipython",
    "version": 3
   },
   "file_extension": ".py",
   "mimetype": "text/x-python",
   "name": "python",
   "nbconvert_exporter": "python",
   "pygments_lexer": "ipython3",
   "version": "3.7.3"
  }
 },
 "nbformat": 4,
 "nbformat_minor": 2
}
