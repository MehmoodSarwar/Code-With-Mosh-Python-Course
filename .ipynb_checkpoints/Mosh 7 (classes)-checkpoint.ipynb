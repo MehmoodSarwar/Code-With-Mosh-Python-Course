{
 "cells": [
  {
   "cell_type": "markdown",
   "metadata": {},
   "source": [
    "# Class:\n",
    "    A blueprint for creating new objects.\n",
    "#Object:\n",
    "    An instance of a class.\n",
    "    #For example:\n",
    "        #Class: Human\n",
    "        #Object: John, Mary......."
   ]
  },
  {
   "cell_type": "markdown",
   "metadata": {},
   "source": [
    "# Creating Classes"
   ]
  },
  {
   "cell_type": "code",
   "execution_count": 10,
   "metadata": {},
   "outputs": [
    {
     "data": {
      "text/plain": [
       "__main__.Point"
      ]
     },
     "execution_count": 10,
     "metadata": {},
     "output_type": "execute_result"
    }
   ],
   "source": [
    "class Point:\n",
    "    def draw(self): #at least one parameter should be passed to a fuction within class block slef is by convention\n",
    "        print(\"draw\")\n",
    " \n",
    "point = Point()\n",
    "type(point)"
   ]
  },
  {
   "cell_type": "code",
   "execution_count": 9,
   "metadata": {},
   "outputs": [
    {
     "name": "stdout",
     "output_type": "stream",
     "text": [
      "<class '__main__.Point'>\n",
      "True\n"
     ]
    }
   ],
   "source": [
    "class Point:\n",
    "    def draw(self): #at least one parameter should be passed to a fuction within class block\n",
    "        print(\"draw\")\n",
    " \n",
    "point = Point()\n",
    "print(type(point))\n",
    "print(isinstance (point, Point)) #checking whether point is instance of Point"
   ]
  },
  {
   "cell_type": "markdown",
   "metadata": {},
   "source": [
    "# Constructors"
   ]
  },
  {
   "cell_type": "code",
   "execution_count": 15,
   "metadata": {},
   "outputs": [
    {
     "name": "stdout",
     "output_type": "stream",
     "text": [
      "Point (1, 2)\n"
     ]
    }
   ],
   "source": [
    "class Point:\n",
    "    def __init__(self, x, y): #magic method, is called constructor which is executed when we create a new point object\n",
    "        self.x = x\n",
    "        self.y = y\n",
    "        \n",
    "    def draw(self): #self is a reference  to the current point object \n",
    "        print(f\"Point ({self.x}, {self.y})\")\n",
    "point = Point(1,2)        \n",
    "point.draw()\n",
    "        "
   ]
  },
  {
   "cell_type": "markdown",
   "metadata": {},
   "source": [
    "# Class vs Instance Attributes"
   ]
  },
  {
   "cell_type": "markdown",
   "metadata": {},
   "source": [
    "Instance Attribute"
   ]
  },
  {
   "cell_type": "code",
   "execution_count": 2,
   "metadata": {},
   "outputs": [
    {
     "name": "stdout",
     "output_type": "stream",
     "text": [
      "Point (1, 2)\n",
      "Point (2, 3)\n"
     ]
    }
   ],
   "source": [
    "class Point:\n",
    "    def __init__(self, x, y): \n",
    "        self.x = x #instant attributes, different for every instance\n",
    "        self.y = y\n",
    "        \n",
    "    def draw(self): #self is a reference  to the current point object \n",
    "        print(f\"Point ({self.x}, {self.y})\")\n",
    "point = Point(1,2)        \n",
    "point.draw()\n",
    "another = Point(2,3)\n",
    "another.draw()"
   ]
  },
  {
   "cell_type": "raw",
   "metadata": {},
   "source": [
    "Class Attribute:\n",
    "    Same for all instances"
   ]
  },
  {
   "cell_type": "code",
   "execution_count": 22,
   "metadata": {},
   "outputs": [
    {
     "name": "stdout",
     "output_type": "stream",
     "text": [
      "Point (1, 2)\n",
      "red\n",
      "red\n",
      "Point (2, 3)\n"
     ]
    }
   ],
   "source": [
    "class Point:\n",
    "    default_color = \"red\"\n",
    "    def __init__(self, x, y): \n",
    "        self.x = x #instant attributes, different for every instance\n",
    "        self.y = y\n",
    "        \n",
    "    def draw(self): #self is a reference  to the current point object \n",
    "        print(f\"Point ({self.x}, {self.y})\")\n",
    "point = Point(1,2)        \n",
    "point.draw()\n",
    "print(Point.default_color) #Point class\n",
    "print(point.default_color) #point instance\n",
    "another = Point(2,3)\n",
    "another.draw()"
   ]
  },
  {
   "cell_type": "markdown",
   "metadata": {},
   "source": [
    "# Class Vs Instant Method"
   ]
  },
  {
   "cell_type": "markdown",
   "metadata": {},
   "source": [
    "Making a class where the default value for the point object is 0, i.e Point(0,0)"
   ]
  },
  {
   "cell_type": "code",
   "execution_count": 39,
   "metadata": {},
   "outputs": [
    {
     "name": "stdout",
     "output_type": "stream",
     "text": [
      "Point (0, 0)\n"
     ]
    }
   ],
   "source": [
    "class Point:\n",
    "    default_color = \"red\"\n",
    "    def __init__(self, x, y): \n",
    "        self.x = x \n",
    "        self.y = y\n",
    "    @classmethod #decorator\n",
    "    def zero(cls): #cls= classmthod, it is a convention\n",
    "        return cls(0,0)\n",
    "        \n",
    "    def draw(self): #self is a reference  to the current point object \n",
    "        print(f\"Point ({self.x}, {self.y})\")\n",
    "\n",
    "point = Point.zero()        \n",
    "point.draw()"
   ]
  },
  {
   "cell_type": "markdown",
   "metadata": {},
   "source": [
    "# Magic Methods:\n",
    "             starts with __"
   ]
  },
  {
   "cell_type": "code",
   "execution_count": 45,
   "metadata": {},
   "outputs": [
    {
     "name": "stdout",
     "output_type": "stream",
     "text": [
      "(1, 2)\n"
     ]
    }
   ],
   "source": [
    "class Point:\n",
    "    def __init__(self, x, y):\n",
    "        self.x = x\n",
    "        self.y = y\n",
    "    def __str__ (self): #converts into string\n",
    "        return f\"({self.x}, {self.y})\"\n",
    "    def draw(self): #self is a reference  to the current point object \n",
    "        print(f\"Point ({self.x}, {self.y})\")\n",
    "point = Point(1,2)        \n",
    "print(str(point))\n",
    "        "
   ]
  },
  {
   "cell_type": "markdown",
   "metadata": {},
   "source": [
    "# Comparing Objects"
   ]
  },
  {
   "cell_type": "code",
   "execution_count": 46,
   "metadata": {},
   "outputs": [
    {
     "name": "stdout",
     "output_type": "stream",
     "text": [
      "False\n"
     ]
    }
   ],
   "source": [
    "class Point():\n",
    "    def __init__ (self, x ,y):\n",
    "        self.x = x\n",
    "        self.y = y\n",
    "        \n",
    "point = Point(1,2)\n",
    "other = Point(1,2)\n",
    "print ( point == other) # \"==\" compares the references/addresses\n",
    "    "
   ]
  },
  {
   "cell_type": "markdown",
   "metadata": {},
   "source": [
    "To solve the a bove we need a magic method of equality"
   ]
  },
  {
   "cell_type": "code",
   "execution_count": 48,
   "metadata": {},
   "outputs": [
    {
     "name": "stdout",
     "output_type": "stream",
     "text": [
      "True\n"
     ]
    }
   ],
   "source": [
    "class Point():\n",
    "    def __init__ (self, x ,y):\n",
    "        self.x = x\n",
    "        self.y = y\n",
    "    def __eq__ (self, other): #defaukt convention\n",
    "        return self.x == other.x and self.y == other.y\n",
    "        \n",
    "point1 = Point(1,2)\n",
    "point2 = Point(1,2)\n",
    "print ( point1 == point2) \n",
    "    "
   ]
  },
  {
   "cell_type": "code",
   "execution_count": 49,
   "metadata": {},
   "outputs": [
    {
     "ename": "TypeError",
     "evalue": "'>' not supported between instances of 'Point' and 'Point'",
     "output_type": "error",
     "traceback": [
      "\u001b[1;31m---------------------------------------------------------------------------\u001b[0m",
      "\u001b[1;31mTypeError\u001b[0m                                 Traceback (most recent call last)",
      "\u001b[1;32m<ipython-input-49-21cef0956d86>\u001b[0m in \u001b[0;36m<module>\u001b[1;34m\u001b[0m\n\u001b[0;32m      8\u001b[0m \u001b[0mpoint1\u001b[0m \u001b[1;33m=\u001b[0m \u001b[0mPoint\u001b[0m\u001b[1;33m(\u001b[0m\u001b[1;36m1\u001b[0m\u001b[1;33m,\u001b[0m\u001b[1;36m2\u001b[0m\u001b[1;33m)\u001b[0m\u001b[1;33m\u001b[0m\u001b[1;33m\u001b[0m\u001b[0m\n\u001b[0;32m      9\u001b[0m \u001b[0mpoint2\u001b[0m \u001b[1;33m=\u001b[0m \u001b[0mPoint\u001b[0m\u001b[1;33m(\u001b[0m\u001b[1;36m1\u001b[0m\u001b[1;33m,\u001b[0m\u001b[1;36m2\u001b[0m\u001b[1;33m)\u001b[0m\u001b[1;33m\u001b[0m\u001b[1;33m\u001b[0m\u001b[0m\n\u001b[1;32m---> 10\u001b[1;33m \u001b[0mprint\u001b[0m \u001b[1;33m(\u001b[0m \u001b[0mpoint1\u001b[0m \u001b[1;33m>\u001b[0m \u001b[0mpoint2\u001b[0m\u001b[1;33m)\u001b[0m\u001b[1;33m\u001b[0m\u001b[1;33m\u001b[0m\u001b[0m\n\u001b[0m\u001b[0;32m     11\u001b[0m \u001b[1;33m\u001b[0m\u001b[0m\n",
      "\u001b[1;31mTypeError\u001b[0m: '>' not supported between instances of 'Point' and 'Point'"
     ]
    }
   ],
   "source": [
    "class Point():\n",
    "    def __init__ (self, x ,y):\n",
    "        self.x = x\n",
    "        self.y = y\n",
    "    def __eq__ (self, other): #defaukt convention\n",
    "        return self.x == other.x and self.y == other.y\n",
    "        \n",
    "point1 = Point(1,2)\n",
    "point2 = Point(1,2)\n",
    "print ( point1 > point2) \n",
    "    "
   ]
  },
  {
   "cell_type": "markdown",
   "metadata": {},
   "source": [
    "Magic method for Greater Than"
   ]
  },
  {
   "cell_type": "code",
   "execution_count": 51,
   "metadata": {},
   "outputs": [
    {
     "name": "stdout",
     "output_type": "stream",
     "text": [
      "True\n"
     ]
    }
   ],
   "source": [
    "class Point():\n",
    "    def __init__ (self, x ,y):\n",
    "        self.x = x\n",
    "        self.y = y\n",
    "    def __eq__ (self, other): #defaukt convention\n",
    "        return self.x == other.x and self.y == other.y\n",
    "    def __gt__ (self, other):\n",
    "        return self.x > other.x and self.y > other.y\n",
    "        \n",
    "point1 = Point(10,20)\n",
    "point2 = Point(1,2)\n",
    "print ( point1 > point2) \n",
    "    "
   ]
  },
  {
   "cell_type": "code",
   "execution_count": 53,
   "metadata": {},
   "outputs": [
    {
     "name": "stdout",
     "output_type": "stream",
     "text": [
      "False\n"
     ]
    }
   ],
   "source": [
    "class Point():\n",
    "    def __init__ (self, x ,y):\n",
    "        self.x = x\n",
    "        self.y = y\n",
    "    def __eq__ (self, other): #defaukt convention\n",
    "        return self.x == other.x and self.y == other.y\n",
    "    def __gt__ (self, other):\n",
    "        return self.x > other.x and self.y > other.y\n",
    "        \n",
    "point1 = Point(10,20)\n",
    "point2 = Point(1,2)\n",
    "print ( point1 < point2) #if \">\" is defined, \"<\" is defined by python itsel\n",
    "    "
   ]
  },
  {
   "cell_type": "markdown",
   "metadata": {},
   "source": [
    "# Adding Objects"
   ]
  },
  {
   "cell_type": "code",
   "execution_count": 54,
   "metadata": {},
   "outputs": [
    {
     "name": "stdout",
     "output_type": "stream",
     "text": [
      "<__main__.Point object at 0x000001E157A17470>\n"
     ]
    }
   ],
   "source": [
    "class Point:\n",
    "    def __init__(self, x, y): #magic method, is called constructor which is executed when we create a new point object\n",
    "        self.x = x\n",
    "        self.y = y\n",
    "    def __add__(self,other):\n",
    "        return Point (self.x + other.x , self.y + other.y)\n",
    "point1 = Point(10,20)\n",
    "point2 = Point(1,2)\n",
    "print ( point1 + point2) #won't print the Added values because __str__ needed\n",
    "    "
   ]
  },
  {
   "cell_type": "code",
   "execution_count": 56,
   "metadata": {},
   "outputs": [
    {
     "name": "stdout",
     "output_type": "stream",
     "text": [
      "11\n"
     ]
    }
   ],
   "source": [
    "class Point:\n",
    "    def __init__(self, x, y): \n",
    "        self.x = x\n",
    "        self.y = y\n",
    "    def __add__(self,other):\n",
    "        return Point (self.x + other.x , self.y + other.y)\n",
    "point1 = Point(10,20)\n",
    "point2 = Point(1,2)\n",
    "\n",
    "combined =  point1 + point2\n",
    "print (combined.x)\n",
    "    "
   ]
  },
  {
   "cell_type": "markdown",
   "metadata": {},
   "source": [
    "# Making Custom Containors"
   ]
  },
  {
   "cell_type": "code",
   "execution_count": 5,
   "metadata": {},
   "outputs": [
    {
     "name": "stdout",
     "output_type": "stream",
     "text": [
      "{'Python': 3}\n"
     ]
    }
   ],
   "source": [
    "class TagCloud:\n",
    "    def __init__(self):\n",
    "        self.tags = {} #empty dictionary\n",
    "    def add(self, tag):\n",
    "        self.tags[tag] = self.tags.get(tag, 0) + 1 #incrementing existing tag by 1\n",
    "        \n",
    "cloud = TagCloud()\n",
    "cloud.add(\"Python\") #adding Python 3 times\n",
    "cloud.add(\"Python\")\n",
    "cloud.add(\"Python\")\n",
    "print(cloud.tags)"
   ]
  },
  {
   "cell_type": "code",
   "execution_count": 1,
   "metadata": {},
   "outputs": [
    {
     "name": "stdout",
     "output_type": "stream",
     "text": [
      "{'Python': 2, 'python': 1}\n"
     ]
    }
   ],
   "source": [
    "class TagCloud:\n",
    "    def __init__(self):\n",
    "        self.tags = {} #empty dictionary\n",
    "    def add(self, tag):\n",
    "        self.tags[tag] = self.tags.get(tag, 0) + 1 #incrementing existing tag by 1\n",
    "        \n",
    "cloud = TagCloud()\n",
    "cloud.add(\"Python\") #adding Python 3 times\n",
    "cloud.add(\"python\")\n",
    "cloud.add(\"Python\")\n",
    "print(cloud.tags)"
   ]
  },
  {
   "cell_type": "code",
   "execution_count": 17,
   "metadata": {},
   "outputs": [
    {
     "name": "stdout",
     "output_type": "stream",
     "text": [
      "{'python': 3}\n"
     ]
    }
   ],
   "source": [
    "class TagCloud:\n",
    "    def __init__(self):\n",
    "        self.tags = {} #empty dictionary\n",
    "    def add(self, tag):\n",
    "        self.tags[tag.lower()] = self.tags.get(tag.lower(), 0) + 1 #incrementing existing tag by 1\n",
    "        \n",
    "cloud = TagCloud()\n",
    "cloud.add(\"Python\") #adding Python 3 times\n",
    "cloud.add(\"python\")\n",
    "cloud.add(\"Python\")\n",
    "print(cloud.tags)"
   ]
  },
  {
   "cell_type": "markdown",
   "metadata": {},
   "source": [
    "To make a containor to get count of items"
   ]
  },
  {
   "cell_type": "code",
   "execution_count": 26,
   "metadata": {},
   "outputs": [
    {
     "name": "stdout",
     "output_type": "stream",
     "text": [
      "3\n",
      "2\n",
      "1\n",
      "0\n"
     ]
    }
   ],
   "source": [
    "class TagCloud:\n",
    "    def __init__(self):\n",
    "        self.tags = {}\n",
    "    \n",
    "    def add (self, tag):\n",
    "        self.tags[tag.lower()] = self.tags.get(tag.lower() , 0) + 1\n",
    "        \n",
    "    def __getitem__ (self , tag): #getting a count of single tag only\n",
    "        return self.tags.get(tag , 0)\n",
    "    \n",
    "cloud = TagCloud()\n",
    "cloud.add (\"Python\")\n",
    "cloud.add (\"Python\")\n",
    "cloud.add (\"Python\")\n",
    "cloud.add (\"Java\")\n",
    "cloud.add (\"Java\")\n",
    "cloud.add (\"C#\")\n",
    "print (cloud[\"python\"])\n",
    "print (cloud[\"java\"])\n",
    "print (cloud[\"c#\"])\n",
    "print (cloud[\"Hello\"])\n"
   ]
  },
  {
   "cell_type": "markdown",
   "metadata": {},
   "source": [
    "To make acontainor to set count of items in a containor\n",
    "e.g ['Python'] = 10"
   ]
  },
  {
   "cell_type": "code",
   "execution_count": 35,
   "metadata": {},
   "outputs": [
    {
     "name": "stdout",
     "output_type": "stream",
     "text": [
      "10\n",
      "{'python': 10, 'java': 4}\n"
     ]
    }
   ],
   "source": [
    "class TagCloud:\n",
    "    def __init__ (self):\n",
    "        self.tags = {} #empty dictionary\n",
    "    def add (self , tag):\n",
    "        self.tags[tag.lower()] = self.tags.get(tag.lower() , 0) + 1\n",
    "    def __getitem__ (self , tag): #getting a count of single tag only\n",
    "        return self.tags.get(tag.lower() , 0)\n",
    "    def __setitem__(self , tag , count): #setting the count of a tag/item\n",
    "        self.tags[tag.lower()] = count\n",
    "cloud = TagCloud()\n",
    "cloud[\"Python\"]= 10\n",
    "cloud [\"Java\"] = 4\n",
    "print (cloud[\"pytHon\"])\n",
    "print(cloud.tags)"
   ]
  },
  {
   "cell_type": "markdown",
   "metadata": {},
   "source": [
    "To get the total number (length) of all tags/items"
   ]
  },
  {
   "cell_type": "code",
   "execution_count": 36,
   "metadata": {},
   "outputs": [
    {
     "name": "stdout",
     "output_type": "stream",
     "text": [
      "10\n",
      "{'python': 10, 'java': 4}\n"
     ]
    },
    {
     "data": {
      "text/plain": [
       "2"
      ]
     },
     "execution_count": 36,
     "metadata": {},
     "output_type": "execute_result"
    }
   ],
   "source": [
    "class TagCloud:\n",
    "    def __init__ (self):\n",
    "        self.tags = {} #empty dictionary\n",
    "    def add (self , tag):\n",
    "        self.tags[tag.lower()] = self.tags.get(tag.lower() , 0) + 1\n",
    "    def __getitem__ (self , tag): #getting a count of single tag only\n",
    "        return self.tags.get(tag.lower() , 0)\n",
    "    def __setitem__(self , tag , count): #setting the count of a tag/item\n",
    "        self.tags[tag.lower()] = count\n",
    "    def __len__ (self):\n",
    "        return len(self.tags)\n",
    "cloud = TagCloud()\n",
    "cloud[\"Python\"]= 10\n",
    "cloud [\"Java\"] = 4\n",
    "print (cloud[\"pytHon\"])\n",
    "print(cloud.tags)\n",
    "len(cloud.tags)"
   ]
  },
  {
   "cell_type": "markdown",
   "metadata": {},
   "source": [
    "To make the items iterable"
   ]
  },
  {
   "cell_type": "code",
   "execution_count": 37,
   "metadata": {},
   "outputs": [
    {
     "name": "stdout",
     "output_type": "stream",
     "text": [
      "10\n",
      "{'python': 10, 'java': 4}\n"
     ]
    },
    {
     "data": {
      "text/plain": [
       "2"
      ]
     },
     "execution_count": 37,
     "metadata": {},
     "output_type": "execute_result"
    }
   ],
   "source": [
    "class TagCloud:\n",
    "    def __init__ (self):\n",
    "        self.tags = {} #empty dictionary\n",
    "    def add (self , tag):\n",
    "        self.tags[tag.lower()] = self.tags.get(tag.lower() , 0) + 1\n",
    "    def __getitem__ (self , tag): #getting a count of single tag only\n",
    "        return self.tags.get(tag.lower() , 0)\n",
    "    def __setitem__(self , tag , count): #setting the count of a tag/item\n",
    "        self.tags[tag.lower()] = count\n",
    "    def __len__ (self):\n",
    "        return len(self.tags)\n",
    "    def __iter__(self):\n",
    "        iter (self.tags)\n",
    "cloud = TagCloud()\n",
    "cloud[\"Python\"]= 10\n",
    "cloud [\"Java\"] = 4\n",
    "print (cloud[\"pytHon\"])\n",
    "print(cloud.tags)\n",
    "len(cloud.tags)"
   ]
  },
  {
   "cell_type": "markdown",
   "metadata": {},
   "source": [
    "# Private Members:\n",
    "    Replace tags with __tags (in the above code) to make it  hard to access the underline dictionary of the code "
   ]
  },
  {
   "cell_type": "markdown",
   "metadata": {},
   "source": [
    "# Properties"
   ]
  },
  {
   "cell_type": "code",
   "execution_count": 39,
   "metadata": {},
   "outputs": [
    {
     "name": "stdout",
     "output_type": "stream",
     "text": [
      "-50\n"
     ]
    }
   ],
   "source": [
    "class Product:\n",
    "    def __init__(self , price):\n",
    "        self.price = price\n",
    "\n",
    "product = Product(-50)\n",
    "print(product.price)"
   ]
  },
  {
   "cell_type": "markdown",
   "metadata": {},
   "source": [
    "Note: The price cannot be negative"
   ]
  },
  {
   "cell_type": "code",
   "execution_count": 45,
   "metadata": {},
   "outputs": [
    {
     "ename": "AttributeError",
     "evalue": "'Product' object has no attribute 'price'",
     "output_type": "error",
     "traceback": [
      "\u001b[1;31m---------------------------------------------------------------------------\u001b[0m",
      "\u001b[1;31mAttributeError\u001b[0m                            Traceback (most recent call last)",
      "\u001b[1;32m<ipython-input-45-d305b98e9856>\u001b[0m in \u001b[0;36m<module>\u001b[1;34m\u001b[0m\n\u001b[0;32m     12\u001b[0m \u001b[1;33m\u001b[0m\u001b[0m\n\u001b[0;32m     13\u001b[0m \u001b[0mproduct\u001b[0m \u001b[1;33m=\u001b[0m \u001b[0mProduct\u001b[0m\u001b[1;33m(\u001b[0m\u001b[1;36m50\u001b[0m\u001b[1;33m)\u001b[0m\u001b[1;33m\u001b[0m\u001b[1;33m\u001b[0m\u001b[0m\n\u001b[1;32m---> 14\u001b[1;33m \u001b[0mprint\u001b[0m\u001b[1;33m(\u001b[0m\u001b[0mproduct\u001b[0m\u001b[1;33m.\u001b[0m\u001b[0mprice\u001b[0m\u001b[1;33m)\u001b[0m\u001b[1;33m\u001b[0m\u001b[1;33m\u001b[0m\u001b[0m\n\u001b[0m",
      "\u001b[1;31mAttributeError\u001b[0m: 'Product' object has no attribute 'price'"
     ]
    }
   ],
   "source": [
    "class Product:\n",
    "    def __init__(self , price):\n",
    "        self.set_price(price)\n",
    "    \n",
    "    def get_price(self):\n",
    "        return self.__price\n",
    "    def set_price(self, value):\n",
    "        if value < 0:\n",
    "            raise ValueError(\"Price cannot be negative\")\n",
    "        self.__price = value\n",
    "        \n",
    "\n",
    "product = Product(50)\n",
    "print(product.price)\n"
   ]
  },
  {
   "cell_type": "code",
   "execution_count": 50,
   "metadata": {
    "scrolled": true
   },
   "outputs": [
    {
     "ename": "ValueError",
     "evalue": "Price cannot be negative",
     "output_type": "error",
     "traceback": [
      "\u001b[1;31m---------------------------------------------------------------------------\u001b[0m",
      "\u001b[1;31mValueError\u001b[0m                                Traceback (most recent call last)",
      "\u001b[1;32m<ipython-input-50-f2b75cae032e>\u001b[0m in \u001b[0;36m<module>\u001b[1;34m\u001b[0m\n\u001b[0;32m     11\u001b[0m     \u001b[0mprice\u001b[0m \u001b[1;33m=\u001b[0m \u001b[0mproperty\u001b[0m\u001b[1;33m(\u001b[0m\u001b[0mget_price\u001b[0m \u001b[1;33m,\u001b[0m \u001b[0mset_price\u001b[0m\u001b[1;33m)\u001b[0m \u001b[1;31m#property allows us to get or set value of attribute\u001b[0m\u001b[1;33m\u001b[0m\u001b[1;33m\u001b[0m\u001b[0m\n\u001b[0;32m     12\u001b[0m \u001b[1;33m\u001b[0m\u001b[0m\n\u001b[1;32m---> 13\u001b[1;33m \u001b[0mproduct\u001b[0m \u001b[1;33m=\u001b[0m \u001b[0mProduct\u001b[0m\u001b[1;33m(\u001b[0m\u001b[1;33m-\u001b[0m\u001b[1;36m50\u001b[0m\u001b[1;33m)\u001b[0m\u001b[1;33m\u001b[0m\u001b[1;33m\u001b[0m\u001b[0m\n\u001b[0m\u001b[0;32m     14\u001b[0m \u001b[0mprint\u001b[0m\u001b[1;33m(\u001b[0m\u001b[0mproduct\u001b[0m\u001b[1;33m.\u001b[0m\u001b[0mprice\u001b[0m\u001b[1;33m)\u001b[0m\u001b[1;33m\u001b[0m\u001b[1;33m\u001b[0m\u001b[0m\n",
      "\u001b[1;32m<ipython-input-50-f2b75cae032e>\u001b[0m in \u001b[0;36m__init__\u001b[1;34m(self, price)\u001b[0m\n\u001b[0;32m      1\u001b[0m \u001b[1;32mclass\u001b[0m \u001b[0mProduct\u001b[0m\u001b[1;33m:\u001b[0m\u001b[1;33m\u001b[0m\u001b[1;33m\u001b[0m\u001b[0m\n\u001b[0;32m      2\u001b[0m     \u001b[1;32mdef\u001b[0m \u001b[0m__init__\u001b[0m\u001b[1;33m(\u001b[0m\u001b[0mself\u001b[0m \u001b[1;33m,\u001b[0m \u001b[0mprice\u001b[0m\u001b[1;33m)\u001b[0m\u001b[1;33m:\u001b[0m\u001b[1;33m\u001b[0m\u001b[1;33m\u001b[0m\u001b[0m\n\u001b[1;32m----> 3\u001b[1;33m         \u001b[0mself\u001b[0m\u001b[1;33m.\u001b[0m\u001b[0mset_price\u001b[0m\u001b[1;33m(\u001b[0m\u001b[0mprice\u001b[0m\u001b[1;33m)\u001b[0m\u001b[1;33m\u001b[0m\u001b[1;33m\u001b[0m\u001b[0m\n\u001b[0m\u001b[0;32m      4\u001b[0m \u001b[1;33m\u001b[0m\u001b[0m\n\u001b[0;32m      5\u001b[0m     \u001b[1;32mdef\u001b[0m \u001b[0mget_price\u001b[0m\u001b[1;33m(\u001b[0m\u001b[0mself\u001b[0m\u001b[1;33m)\u001b[0m\u001b[1;33m:\u001b[0m\u001b[1;33m\u001b[0m\u001b[1;33m\u001b[0m\u001b[0m\n",
      "\u001b[1;32m<ipython-input-50-f2b75cae032e>\u001b[0m in \u001b[0;36mset_price\u001b[1;34m(self, value)\u001b[0m\n\u001b[0;32m      7\u001b[0m     \u001b[1;32mdef\u001b[0m \u001b[0mset_price\u001b[0m\u001b[1;33m(\u001b[0m\u001b[0mself\u001b[0m\u001b[1;33m,\u001b[0m \u001b[0mvalue\u001b[0m\u001b[1;33m)\u001b[0m\u001b[1;33m:\u001b[0m\u001b[1;33m\u001b[0m\u001b[1;33m\u001b[0m\u001b[0m\n\u001b[0;32m      8\u001b[0m         \u001b[1;32mif\u001b[0m \u001b[0mvalue\u001b[0m \u001b[1;33m<\u001b[0m \u001b[1;36m0\u001b[0m\u001b[1;33m:\u001b[0m\u001b[1;33m\u001b[0m\u001b[1;33m\u001b[0m\u001b[0m\n\u001b[1;32m----> 9\u001b[1;33m             \u001b[1;32mraise\u001b[0m \u001b[0mValueError\u001b[0m\u001b[1;33m(\u001b[0m\u001b[1;34m\"Price cannot be negative\"\u001b[0m\u001b[1;33m)\u001b[0m\u001b[1;33m\u001b[0m\u001b[1;33m\u001b[0m\u001b[0m\n\u001b[0m\u001b[0;32m     10\u001b[0m         \u001b[0mself\u001b[0m\u001b[1;33m.\u001b[0m\u001b[0m__price\u001b[0m \u001b[1;33m=\u001b[0m \u001b[0mvalue\u001b[0m\u001b[1;33m\u001b[0m\u001b[1;33m\u001b[0m\u001b[0m\n\u001b[0;32m     11\u001b[0m     \u001b[0mprice\u001b[0m \u001b[1;33m=\u001b[0m \u001b[0mproperty\u001b[0m\u001b[1;33m(\u001b[0m\u001b[0mget_price\u001b[0m \u001b[1;33m,\u001b[0m \u001b[0mset_price\u001b[0m\u001b[1;33m)\u001b[0m \u001b[1;31m#property allows us to get or set value of attribute\u001b[0m\u001b[1;33m\u001b[0m\u001b[1;33m\u001b[0m\u001b[0m\n",
      "\u001b[1;31mValueError\u001b[0m: Price cannot be negative"
     ]
    }
   ],
   "source": [
    "class Product:\n",
    "    def __init__(self , price):\n",
    "        self.set_price(price)\n",
    "    \n",
    "    def get_price(self):\n",
    "        return self.__price\n",
    "    def set_price(self, value):\n",
    "        if value < 0:\n",
    "            raise ValueError(\"Price cannot be negative\")\n",
    "        self.__price = value\n",
    "    price = property(get_price , set_price) #property allows us to get or set value of attribute\n",
    "\n",
    "product = Product(-50)\n",
    "print(product.price)\n"
   ]
  },
  {
   "cell_type": "markdown",
   "metadata": {},
   "source": [
    "The above code is considered unpythonic, it seems like typical java code"
   ]
  },
  {
   "cell_type": "code",
   "execution_count": 52,
   "metadata": {},
   "outputs": [
    {
     "name": "stdout",
     "output_type": "stream",
     "text": [
      "50\n"
     ]
    }
   ],
   "source": [
    "class Product:\n",
    "    def __init__(self , price):\n",
    "        self.price = price\n",
    "    @property #decorator\n",
    "    def price(self):\n",
    "        return self.__price\n",
    "    @price.setter\n",
    "    def price(self, value):\n",
    "        if value < 0:\n",
    "            raise ValueError(\"Price cannot be negative\")\n",
    "        self.__price = value\n",
    "\n",
    "product = Product(50)\n",
    "print(product.price)\n"
   ]
  },
  {
   "cell_type": "markdown",
   "metadata": {},
   "source": [
    "NOTE: If we want to build a read only class then the set and get properties are not required"
   ]
  },
  {
   "cell_type": "markdown",
   "metadata": {},
   "source": [
    "# Inheritance"
   ]
  },
  {
   "cell_type": "markdown",
   "metadata": {},
   "source": [
    "DRY: Don't Repeat Yourself"
   ]
  },
  {
   "cell_type": "code",
   "execution_count": 1,
   "metadata": {},
   "outputs": [],
   "source": [
    "class Mammal:\n",
    "    def eat(self):\n",
    "        print(\"eat\")\n",
    "    def walk(self):\n",
    "        print(\"walk\")\n",
    "class  fish:\n",
    "    def eat(self):\n",
    "        print(\"eat\")\n",
    "    def swim(self):\n",
    "        print(\"swim\")"
   ]
  },
  {
   "cell_type": "markdown",
   "metadata": {},
   "source": [
    "since the above code has a feature \"eat\" that is shared by both, we should use the either iheritance or composition (didn't study yet) method"
   ]
  },
  {
   "cell_type": "code",
   "execution_count": 16,
   "metadata": {},
   "outputs": [
    {
     "name": "stdout",
     "output_type": "stream",
     "text": [
      "walk\n"
     ]
    }
   ],
   "source": [
    "class Animal: \n",
    "    def eat(self):\n",
    "        print(\"eat\")\n",
    "class Mammal(Animal): #inherits all methods/features of Animal  class\n",
    "    def walk(self):\n",
    "        print(\"walk\")\n",
    "class  fish(Animal): #Animal: parent/base\n",
    "    def swim(self):  #Fish/Mammal: child/sub\n",
    "        print(\"swim\")\n",
    "m = Mammal()\n",
    "m.walk()"
   ]
  },
  {
   "cell_type": "markdown",
   "metadata": {},
   "source": [
    "# The Object Class:\n",
    "    It is the base class of all classes in Python"
   ]
  },
  {
   "cell_type": "code",
   "execution_count": 28,
   "metadata": {},
   "outputs": [
    {
     "name": "stdout",
     "output_type": "stream",
     "text": [
      "True\n",
      "True\n",
      "True\n"
     ]
    }
   ],
   "source": [
    "class Animal: \n",
    "    def eat(self):\n",
    "        print(\"eat\")\n",
    "class Mammal(Animal): #inherits all methods/features of Animal  class\n",
    "    def walk(self):\n",
    "        print(\"walk\")\n",
    "class  fish(Animal): #Animal: parent/base\n",
    "    def swim(self):  #Fish/Mammal: child/sub\n",
    "        print(\"swim\")\n",
    "\n",
    "m = Mammal()        \n",
    "print(isinstance(m , Animal)) # Mammal is instance of Animal\n",
    "print(issubclass(Mammal, Animal)) # Mammal is subclass of Animal\n",
    "print(issubclass(Mammal, object))"
   ]
  },
  {
   "cell_type": "markdown",
   "metadata": {},
   "source": [
    "# Method Overriding"
   ]
  },
  {
   "cell_type": "code",
   "execution_count": 29,
   "metadata": {},
   "outputs": [
    {
     "ename": "AttributeError",
     "evalue": "'Mammal' object has no attribute 'age'",
     "output_type": "error",
     "traceback": [
      "\u001b[1;31m---------------------------------------------------------------------------\u001b[0m",
      "\u001b[1;31mAttributeError\u001b[0m                            Traceback (most recent call last)",
      "\u001b[1;32m<ipython-input-29-453f9b07dad4>\u001b[0m in \u001b[0;36m<module>\u001b[1;34m\u001b[0m\n\u001b[0;32m     11\u001b[0m \u001b[1;33m\u001b[0m\u001b[0m\n\u001b[0;32m     12\u001b[0m \u001b[0mm\u001b[0m \u001b[1;33m=\u001b[0m \u001b[0mMammal\u001b[0m\u001b[1;33m(\u001b[0m\u001b[1;33m)\u001b[0m\u001b[1;33m\u001b[0m\u001b[1;33m\u001b[0m\u001b[0m\n\u001b[1;32m---> 13\u001b[1;33m \u001b[0mprint\u001b[0m\u001b[1;33m(\u001b[0m\u001b[0mm\u001b[0m\u001b[1;33m.\u001b[0m\u001b[0mage\u001b[0m\u001b[1;33m)\u001b[0m\u001b[1;33m\u001b[0m\u001b[1;33m\u001b[0m\u001b[0m\n\u001b[0m\u001b[0;32m     14\u001b[0m \u001b[0mprint\u001b[0m\u001b[1;33m(\u001b[0m\u001b[0mm\u001b[0m\u001b[1;33m.\u001b[0m\u001b[0mweight\u001b[0m\u001b[1;33m)\u001b[0m\u001b[1;33m\u001b[0m\u001b[1;33m\u001b[0m\u001b[0m\n",
      "\u001b[1;31mAttributeError\u001b[0m: 'Mammal' object has no attribute 'age'"
     ]
    }
   ],
   "source": [
    "class Animal:\n",
    "    def __init__(self):\n",
    "        self.age = 1\n",
    "    def eat(self):\n",
    "        print(\"eat\")\n",
    "class Mammal(Animal): #inherits all methods/features of Animal  class\n",
    "    def __init__(self):\n",
    "        self.weight = 2\n",
    "    def walk(self):\n",
    "        print(\"walk\")\n",
    "\n",
    "m = Mammal()\n",
    "print(m.age)\n",
    "print(m.weight)"
   ]
  },
  {
   "cell_type": "markdown",
   "metadata": {},
   "source": [
    "In the above code the connstructor\n",
    "\n",
    "\"def __init__(self):\n",
    "        self.weight =2\"\n",
    "        \n",
    "        overrode/replaced\n",
    "        \n",
    "\"def __init__(self):\n",
    "        self.age =1\""
   ]
  },
  {
   "cell_type": "markdown",
   "metadata": {},
   "source": [
    "super() function is used to get access to super/base class i.e Animal"
   ]
  },
  {
   "cell_type": "code",
   "execution_count": 32,
   "metadata": {},
   "outputs": [
    {
     "name": "stdout",
     "output_type": "stream",
     "text": [
      "Animal Constructor\n",
      "Mammal Constructor\n",
      "1\n",
      "2\n"
     ]
    }
   ],
   "source": [
    "class Animal:\n",
    "    def __init__(self):\n",
    "        print(\"Animal Constructor\")\n",
    "        self.age = 1\n",
    "    def eat(self):\n",
    "        print(\"eat\")\n",
    "class Mammal(Animal): #inherits all methods/features of Animal  class\n",
    "    def __init__(self):\n",
    "        super().__init__()\n",
    "        print(\"Mammal Constructor\")\n",
    "        self.weight = 2\n",
    "    def walk(self):\n",
    "        print(\"walk\")\n",
    "\n",
    "m = Mammal()\n",
    "print(m.age)\n",
    "print(m.weight)"
   ]
  },
  {
   "cell_type": "markdown",
   "metadata": {},
   "source": [
    "# Multi Level Inheritance"
   ]
  },
  {
   "cell_type": "code",
   "execution_count": 4,
   "metadata": {},
   "outputs": [
    {
     "name": "stdout",
     "output_type": "stream",
     "text": [
      "fly\n"
     ]
    }
   ],
   "source": [
    "class Animal: \n",
    "    def eat(self):\n",
    "        print(\"eat\")\n",
    "class Mammal(Animal):\n",
    "    def walk(self):\n",
    "        print(\"walk\")\n",
    "class  Bird(Mammal): \n",
    "    def fly(self):  \n",
    "        print(\"fly\")\n",
    "class Chicken(Bird):\n",
    "    pass #pass does nothing, since the body of class can't be empty we use class\n",
    "\n",
    "c = Chicken()        \n",
    "c.fly()"
   ]
  },
  {
   "cell_type": "markdown",
   "metadata": {},
   "source": [
    "NOTE: Multi Level Inheritance creates many problems, too much levels should be avoided"
   ]
  },
  {
   "cell_type": "markdown",
   "metadata": {},
   "source": [
    "# Multiple Inheritance"
   ]
  },
  {
   "cell_type": "code",
   "execution_count": 1,
   "metadata": {},
   "outputs": [
    {
     "name": "stdout",
     "output_type": "stream",
     "text": [
      "Employee Greet\n"
     ]
    }
   ],
   "source": [
    "class Employee:\n",
    "    def greet(self):\n",
    "        print(\"Employee Greet\")\n",
    "class Person:\n",
    "    def greet(self):\n",
    "        print(\"Person Greet\")\n",
    "class Manager(Employee , Person):\n",
    "    pass\n",
    "manager = Manager()\n",
    "manager.greet()"
   ]
  },
  {
   "cell_type": "code",
   "execution_count": 2,
   "metadata": {},
   "outputs": [
    {
     "name": "stdout",
     "output_type": "stream",
     "text": [
      "Person Greet\n"
     ]
    }
   ],
   "source": [
    "class Employee:\n",
    "    def greet(self):\n",
    "        print(\"Employee Greet\")\n",
    "class Person:\n",
    "    def greet(self):\n",
    "        print(\"Person Greet\")\n",
    "class Manager(Person , Employee):\n",
    "    pass\n",
    "manager = Manager()\n",
    "manager.greet()"
   ]
  },
  {
   "cell_type": "markdown",
   "metadata": {},
   "source": [
    "NOTE: Multiple Inheritance should be used when the two classes have no attribute in common (like the greet method  above),\n",
    "    Otherwise it can  create problems/bugs"
   ]
  },
  {
   "cell_type": "code",
   "execution_count": 3,
   "metadata": {},
   "outputs": [],
   "source": [
    "# Good Example of Multiple level Inheritance\n",
    "\n",
    "class Flyer:\n",
    "    def fly(self):\n",
    "        pass\n",
    "class Swimmer:\n",
    "    def swim(self):\n",
    "        pass\n",
    "class FlyingFish(Flyer , Swimmer):\n",
    "    pass\n"
   ]
  },
  {
   "cell_type": "markdown",
   "metadata": {},
   "source": [
    "# A Good Example of Inheritance"
   ]
  },
  {
   "cell_type": "markdown",
   "metadata": {},
   "source": [
    "NOTE: We can read a stream of data from a file, network or memeory.\n",
    "      All the streams have a few things in common, we can open, close\n",
    "      or read from them. But how we read data from a stream is dependent\n",
    "      on the type of stream, because reading a data from a file is\n",
    "      different from reading it from a network."
   ]
  },
  {
   "cell_type": "code",
   "execution_count": 5,
   "metadata": {},
   "outputs": [],
   "source": [
    "class InvalidOperatonError(Exception): # custom exception\n",
    "    pass\n",
    "\n",
    "class Stream:\n",
    "    def __init__(self):\n",
    "        self.opened = False # setting the opened flag initially to false\n",
    "    \n",
    "    def opened(self):\n",
    "        if self.opened: # if the stream is already open and we open it again\n",
    "            raise InvalidOperationError(\"The Stream is already open.\")\n",
    "        self.opened = True   \n",
    "        \n",
    "    def closed(self):\n",
    "        if not self.opened: # if the stream is already closed and we close it again\n",
    "            raise InvalidOperationError(\"The Stream is already close.\")\n",
    "        self.opened = False   \n",
    "        \n",
    "class FileStream(Stream):\n",
    "    def read(self):\n",
    "        print(\"Reading data from a file\")\n",
    "    \n",
    "class NetworkStream(Stream):\n",
    "    def read(self):\n",
    "        print(\"Reading data from a Network\")\n"
   ]
  },
  {
   "cell_type": "markdown",
   "metadata": {},
   "source": [
    "# Abstract Base Classes:\n",
    "    An Abstract Base Class (ABC) is like a half baked cookie, it's not ready to be eaten.\n",
    "    Its purpose is to provide some common code to its derivatives."
   ]
  },
  {
   "cell_type": "code",
   "execution_count": 5,
   "metadata": {},
   "outputs": [],
   "source": [
    "from abc import ABC, abstractmethod # Importing abc moodule from ABC Class and abstracmethod (which is a function to be used as a decorator)\n",
    "\n",
    "class InvalidOperatonError(Exception): # custom exception\n",
    "    pass\n",
    "\n",
    "class Stream(ABC):\n",
    "    def __init__(self):\n",
    "        self.opened = False # setting the opened flag initially to false\n",
    "    \n",
    "    def opened(self):\n",
    "        if self.opened: # if the stream is already open and we open it again\n",
    "            raise InvalidOperationError(\"The Stream is already open.\")\n",
    "        self.opened = True   \n",
    "        \n",
    "    def closed(self):\n",
    "        if not self.opened: # if the stream is already closed and we close it again\n",
    "            raise InvalidOperationError(\"The Stream is already close.\")\n",
    "        self.opened = False\n",
    "    \n",
    "    @abstractmethod\n",
    "    def read(self):\n",
    "        pass\n",
    "        \n",
    "        \n",
    "class FileStream(Stream):\n",
    "    def read(self):\n",
    "        print(\"Reading data from a file\")\n",
    "    \n",
    "class NetworkStream(Stream):\n",
    "    def read(self):\n",
    "        print(\"Reading data from a Network\")\n",
    "class MemoryStream(Stream):\n",
    "    def read(self):\n",
    "        print(\"Reading data from a Memory\")\n",
    "        \n",
    "stream = MemoryStream()\n",
    "stream.open()"
   ]
  },
  {
   "cell_type": "markdown",
   "metadata": {},
   "source": [
    "# Polymorphism:\n",
    "    Poly = Many , Morph = Forms"
   ]
  },
  {
   "cell_type": "code",
   "execution_count": 5,
   "metadata": {},
   "outputs": [
    {
     "name": "stdout",
     "output_type": "stream",
     "text": [
      "TextBox\n",
      "DropDownList\n"
     ]
    }
   ],
   "source": [
    "from  abc import ABC, abstractmethod\n",
    "\n",
    "class UIControl(ABC):\n",
    "    @abstractmethod\n",
    "    def draw(self):\n",
    "        pass\n",
    "class DropDownList(UIControl):\n",
    "    def  draw(self):\n",
    "        print(\"DropDownList\")\n",
    "class TextBox(UIControl):\n",
    "    def draw(self):\n",
    "        print(\"TextBox\")\n",
    "        \n",
    "def draw(controls):\n",
    "    for control in controls:\n",
    "        control.draw()\n",
    "\n",
    "ddl = DropDownList()\n",
    "tb = TextBox()\n",
    "draw([tb ,ddl])"
   ]
  },
  {
   "cell_type": "markdown",
   "metadata": {},
   "source": [
    "# Duck Typing"
   ]
  },
  {
   "cell_type": "code",
   "execution_count": 8,
   "metadata": {},
   "outputs": [
    {
     "name": "stdout",
     "output_type": "stream",
     "text": [
      "TextBox\n",
      "DropDownList\n"
     ]
    }
   ],
   "source": [
    "class DropDownList:\n",
    "    def  draw(self):\n",
    "        print(\"DropDownList\")\n",
    "class TextBox:\n",
    "    def draw(self):\n",
    "        print(\"TextBox\")\n",
    "        \n",
    "def draw(controls):\n",
    "    for control in controls:\n",
    "        control.draw()\n",
    "\n",
    "ddl = DropDownList()\n",
    "tb = TextBox()\n",
    "draw([tb ,ddl])"
   ]
  },
  {
   "cell_type": "markdown",
   "metadata": {},
   "source": [
    "# Extending Built-in Types"
   ]
  },
  {
   "cell_type": "code",
   "execution_count": 17,
   "metadata": {},
   "outputs": [
    {
     "name": "stdout",
     "output_type": "stream",
     "text": [
      "python\n",
      "PythonPython\n"
     ]
    }
   ],
   "source": [
    "class Text(str): # Text class will have all the str features and the additional one of the class body too\n",
    "    def duplicate(self):\n",
    "        return self + self\n",
    "text = Text(\"Python\")\n",
    "print(text.lower())  # str feature\n",
    "print(text.duplicate()) # Text (class) feature "
   ]
  },
  {
   "cell_type": "code",
   "execution_count": 1,
   "metadata": {},
   "outputs": [
    {
     "name": "stdout",
     "output_type": "stream",
     "text": [
      "Append Called\n"
     ]
    }
   ],
   "source": [
    "class TrackableList(list): # TrackableList will inheret all  the features of list\n",
    "    def append(self , object): # class method\n",
    "        print(\"Append Called\")\n",
    "        super().append(object) # list method \n",
    "        \n",
    "list = TrackableList()\n",
    "list.append(\"1\")"
   ]
  },
  {
   "cell_type": "markdown",
   "metadata": {},
   "source": [
    "# Data Classes:\n",
    "    Classes that don't have methods/behaviours , they only have data"
   ]
  },
  {
   "cell_type": "code",
   "execution_count": 11,
   "metadata": {},
   "outputs": [
    {
     "name": "stdout",
     "output_type": "stream",
     "text": [
      "False\n"
     ]
    }
   ],
   "source": [
    "class Point(): # have no methods\n",
    "    def __init__ (self, x ,y):\n",
    "        self.x = x\n",
    "        self.y = y\n",
    "            \n",
    "point1 = Point(1,2)\n",
    "point2 = Point(1,2)\n",
    "print ( point1 == point2) #False because point1 and point 2 are stored in different memory locations despite having the same data\n",
    "    "
   ]
  },
  {
   "cell_type": "code",
   "execution_count": 12,
   "metadata": {},
   "outputs": [
    {
     "name": "stdout",
     "output_type": "stream",
     "text": [
      "2244744175512\n",
      "2244744175568\n"
     ]
    }
   ],
   "source": [
    "class Point(): # have no methods\n",
    "    def __init__ (self, x ,y):\n",
    "        self.x = x\n",
    "        self.y = y\n",
    "        \n",
    "point1 = Point(1,2)\n",
    "point2 = Point(1,2)\n",
    "print (id(point1)) # id tells us the address in memory\n",
    "print (id(point2))  "
   ]
  },
  {
   "cell_type": "code",
   "execution_count": 13,
   "metadata": {},
   "outputs": [
    {
     "name": "stdout",
     "output_type": "stream",
     "text": [
      "True\n"
     ]
    }
   ],
   "source": [
    "class Point(): # have no methods\n",
    "    def __init__ (self, x ,y):\n",
    "        self.x = x\n",
    "        self.y = y\n",
    "    def __eq__ (self, other): \n",
    "        return self.x == other.x and self.y == other.y\n",
    "        \n",
    "point1 = Point(1,2)\n",
    "point2 = Point(1,2)\n",
    "print ( point1 == point2) \n",
    "    "
   ]
  },
  {
   "cell_type": "markdown",
   "metadata": {},
   "source": [
    "NOTE: Working with classes that have only data and no methods , it's \n",
    "      better to use namedtuple as it takes less code."
   ]
  },
  {
   "cell_type": "code",
   "execution_count": 15,
   "metadata": {},
   "outputs": [
    {
     "name": "stdout",
     "output_type": "stream",
     "text": [
      "True\n"
     ]
    }
   ],
   "source": [
    "from collections import namedtuple\n",
    "\n",
    "Point = namedtuple(\"Point\" , [\"x\" , \"y\"])\n",
    "p1 = Point(x= 1 , y=2)\n",
    "p2 = Point(x= 1 , y=2)\n",
    "print(p1 == p2)"
   ]
  },
  {
   "cell_type": "code",
   "execution_count": 17,
   "metadata": {},
   "outputs": [
    {
     "name": "stdout",
     "output_type": "stream",
     "text": [
      "1\n",
      "True\n"
     ]
    }
   ],
   "source": [
    "from collections import namedtuple\n",
    "\n",
    "Point = namedtuple(\"Point\" , [\"x\" , \"y\"])\n",
    "print(p1.x)\n",
    "p1 = Point(x= 1 , y=2)\n",
    "p2 = Point(x= 1 , y=2)\n",
    "print(p1 == p2)"
   ]
  },
  {
   "cell_type": "code",
   "execution_count": 18,
   "metadata": {},
   "outputs": [
    {
     "ename": "AttributeError",
     "evalue": "can't set attribute",
     "output_type": "error",
     "traceback": [
      "\u001b[1;31m---------------------------------------------------------------------------\u001b[0m",
      "\u001b[1;31mAttributeError\u001b[0m                            Traceback (most recent call last)",
      "\u001b[1;32m<ipython-input-18-4eb1f10ffca4>\u001b[0m in \u001b[0;36m<module>\u001b[1;34m\u001b[0m\n\u001b[0;32m      2\u001b[0m \u001b[1;33m\u001b[0m\u001b[0m\n\u001b[0;32m      3\u001b[0m \u001b[0mPoint\u001b[0m \u001b[1;33m=\u001b[0m \u001b[0mnamedtuple\u001b[0m\u001b[1;33m(\u001b[0m\u001b[1;34m\"Point\"\u001b[0m \u001b[1;33m,\u001b[0m \u001b[1;33m[\u001b[0m\u001b[1;34m\"x\"\u001b[0m \u001b[1;33m,\u001b[0m \u001b[1;34m\"y\"\u001b[0m\u001b[1;33m]\u001b[0m\u001b[1;33m)\u001b[0m\u001b[1;33m\u001b[0m\u001b[1;33m\u001b[0m\u001b[0m\n\u001b[1;32m----> 4\u001b[1;33m \u001b[0mp1\u001b[0m\u001b[1;33m.\u001b[0m\u001b[0mx\u001b[0m \u001b[1;33m=\u001b[0m \u001b[1;36m10\u001b[0m\u001b[1;33m\u001b[0m\u001b[1;33m\u001b[0m\u001b[0m\n\u001b[0m\u001b[0;32m      5\u001b[0m \u001b[0mp1\u001b[0m \u001b[1;33m=\u001b[0m \u001b[0mPoint\u001b[0m\u001b[1;33m(\u001b[0m\u001b[0mx\u001b[0m\u001b[1;33m=\u001b[0m \u001b[1;36m1\u001b[0m \u001b[1;33m,\u001b[0m \u001b[0my\u001b[0m\u001b[1;33m=\u001b[0m\u001b[1;36m2\u001b[0m\u001b[1;33m)\u001b[0m\u001b[1;33m\u001b[0m\u001b[1;33m\u001b[0m\u001b[0m\n\u001b[0;32m      6\u001b[0m \u001b[0mp2\u001b[0m \u001b[1;33m=\u001b[0m \u001b[0mPoint\u001b[0m\u001b[1;33m(\u001b[0m\u001b[0mx\u001b[0m\u001b[1;33m=\u001b[0m \u001b[1;36m1\u001b[0m \u001b[1;33m,\u001b[0m \u001b[0my\u001b[0m\u001b[1;33m=\u001b[0m\u001b[1;36m2\u001b[0m\u001b[1;33m)\u001b[0m\u001b[1;33m\u001b[0m\u001b[1;33m\u001b[0m\u001b[0m\n",
      "\u001b[1;31mAttributeError\u001b[0m: can't set attribute"
     ]
    }
   ],
   "source": [
    "from collections import namedtuple\n",
    "\n",
    "Point = namedtuple(\"Point\" , [\"x\" , \"y\"])\n",
    "p1.x = 10\n",
    "p1 = Point(x= 1 , y=2)\n",
    "p2 = Point(x= 1 , y=2)\n",
    "print(p1 == p2)"
   ]
  },
  {
   "cell_type": "markdown",
   "metadata": {},
   "source": [
    "NOTE: namedtuple are immuttable, once a value is set , it can not be modified"
   ]
  },
  {
   "cell_type": "code",
   "execution_count": null,
   "metadata": {},
   "outputs": [],
   "source": []
  }
 ],
 "metadata": {
  "kernelspec": {
   "display_name": "Python 3",
   "language": "python",
   "name": "python3"
  },
  "language_info": {
   "codemirror_mode": {
    "name": "ipython",
    "version": 3
   },
   "file_extension": ".py",
   "mimetype": "text/x-python",
   "name": "python",
   "nbconvert_exporter": "python",
   "pygments_lexer": "ipython3",
   "version": "3.7.3"
  }
 },
 "nbformat": 4,
 "nbformat_minor": 2
}
