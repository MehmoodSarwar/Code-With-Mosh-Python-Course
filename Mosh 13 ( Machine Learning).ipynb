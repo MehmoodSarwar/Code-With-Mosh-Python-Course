{
 "cells": [
  {
   "cell_type": "markdown",
   "metadata": {},
   "source": [
    "# Machine Learning Steps:\n",
    "    1. Import Data\n",
    "    2. Clean Data (Remove Irrelevant/Duplicate Data)\n",
    "    3. Split The Data Into Training/Test Sets\n",
    "    4. Create a Model\n",
    "    5. Train The Model\n",
    "    6. Make Predictions\n",
    "    7. Evaluate and improve"
   ]
  },
  {
   "cell_type": "markdown",
   "metadata": {},
   "source": [
    "# Popualr ML Libraries:\n",
    "    1. NumPy (Provides Multi-Dimensional Array)\n",
    "    2. Pandas (Data Analysis Library that Provides Data Frame which is a 2 dimensional data structure like excel spreadsheet)\n",
    "    3. MatPlotLib (A 2 Dimensional-Plotting Library for creating plots and graphs)\n",
    "    4. Scikit-Learn (Provides all Common Learning Algorithms e.g Decision Trees , Neural Networks...)\n"
   ]
  },
  {
   "cell_type": "code",
   "execution_count": 1,
   "metadata": {},
   "outputs": [],
   "source": [
    "import  pandas as pd"
   ]
  },
  {
   "cell_type": "code",
   "execution_count": null,
   "metadata": {},
   "outputs": [],
   "source": []
  }
 ],
 "metadata": {
  "kernelspec": {
   "display_name": "Python 3",
   "language": "python",
   "name": "python3"
  },
  "language_info": {
   "codemirror_mode": {
    "name": "ipython",
    "version": 3
   },
   "file_extension": ".py",
   "mimetype": "text/x-python",
   "name": "python",
   "nbconvert_exporter": "python",
   "pygments_lexer": "ipython3",
   "version": "3.7.3"
  }
 },
 "nbformat": 4,
 "nbformat_minor": 2
}
