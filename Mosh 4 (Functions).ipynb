{
 "cells": [
  {
   "cell_type": "code",
   "execution_count": 1,
   "metadata": {},
   "outputs": [
    {
     "name": "stdout",
     "output_type": "stream",
     "text": [
      "HI\n",
      "Welcome aboard\n"
     ]
    }
   ],
   "source": [
    "def greeting(): #here the difference between greet function and print funtion is that\n",
    "    print(\"HI\") #print has inputs i.e \"Hi\" and \"Welcome aboard\" while greet has no inputs\n",
    "    print(\"Welcome aboard\")\n",
    "\n",
    "greeting()"
   ]
  },
  {
   "cell_type": "markdown",
   "metadata": {},
   "source": [
    "# Arguments"
   ]
  },
  {
   "cell_type": "code",
   "execution_count": 8,
   "metadata": {},
   "outputs": [
    {
     "name": "stdout",
     "output_type": "stream",
     "text": [
      "HI Mehmood , Sarwar\n",
      "Welcome aboard\n"
     ]
    }
   ],
   "source": [
    "def greeting( first_name , last_name):#firt_name and last_name are parameters\n",
    "    print(f\"HI {first_name} , {last_name}\") \n",
    "    print(\"Welcome aboard\")\n",
    "\n",
    "greeting(\"Mehmood\" , \"Sarwar\") #Mehmood and Sarwar are Arguments i.e the values of parameters"
   ]
  },
  {
   "cell_type": "markdown",
   "metadata": {},
   "source": [
    "NOTE: Parameters are the input that you define for your function while arguments are the actual value of the parameter"
   ]
  },
  {
   "cell_type": "markdown",
   "metadata": {},
   "source": [
    "# Types of Functions:\n",
    "    1. That performs a task e.g print\n",
    "    2. That calculates and returns a value e.g round(1.2)"
   ]
  },
  {
   "cell_type": "code",
   "execution_count": 9,
   "metadata": {},
   "outputs": [
    {
     "name": "stdout",
     "output_type": "stream",
     "text": [
      "Hi Mehmood\n"
     ]
    }
   ],
   "source": [
    "def greet(name): #here greet is perform a task function\n",
    "    print(f\"Hi {name}\")\n",
    "    \n",
    "greet(\"Mehmood\")"
   ]
  },
  {
   "cell_type": "code",
   "execution_count": 10,
   "metadata": {},
   "outputs": [
    {
     "data": {
      "text/plain": [
       "'Hi Mehmood'"
      ]
     },
     "execution_count": 10,
     "metadata": {},
     "output_type": "execute_result"
    }
   ],
   "source": [
    "def greet(name): #here greet is return a vlue function\n",
    "    return f\"Hi {name}\"\n",
    "    \n",
    "greet(\"Mehmood\")"
   ]
  },
  {
   "cell_type": "code",
   "execution_count": 12,
   "metadata": {},
   "outputs": [],
   "source": [
    "def greet(name): #here greet is return a vlue function\n",
    "    return f\"Hi {name}\"\n",
    "    \n",
    "message = greet(\"Mehmood\") #we have stored the reuturned value in a variable we can't do this\n",
    "#if there is no return value "
   ]
  },
  {
   "cell_type": "code",
   "execution_count": 13,
   "metadata": {},
   "outputs": [
    {
     "name": "stdout",
     "output_type": "stream",
     "text": [
      "Hi Mehmood\n"
     ]
    }
   ],
   "source": [
    "print(message)"
   ]
  },
  {
   "cell_type": "code",
   "execution_count": 18,
   "metadata": {},
   "outputs": [
    {
     "name": "stdout",
     "output_type": "stream",
     "text": [
      "Hi Mehmood\n",
      "None\n"
     ]
    }
   ],
   "source": [
    "def greet(name): #here greet is perform a task function\n",
    "    print(f\"Hi {name}\")\n",
    "    \n",
    "print(greet(\"Mehmood\"))"
   ]
  },
  {
   "cell_type": "markdown",
   "metadata": {},
   "source": [
    "In the above example 'None' is the return value of greet function, Functions by  default\n",
    "returns 'None' value\n",
    "NOTE: 'None' is an object  that represents the absence of a vlue,  all functions returns\n",
    "    'None' by default unless you specifically return a value"
   ]
  },
  {
   "cell_type": "code",
   "execution_count": 21,
   "metadata": {},
   "outputs": [
    {
     "name": "stdout",
     "output_type": "stream",
     "text": [
      "3\n"
     ]
    }
   ],
   "source": [
    "def increment (number , by):\n",
    "    return number + by\n",
    "\n",
    "\n",
    "print(increment(2,1))"
   ]
  },
  {
   "cell_type": "code",
   "execution_count": 26,
   "metadata": {},
   "outputs": [
    {
     "name": "stdout",
     "output_type": "stream",
     "text": [
      "3\n"
     ]
    }
   ],
   "source": [
    "def increment (number , by):\n",
    "    return number + by\n",
    "\n",
    "\n",
    "print(increment(2,by=1)) #by= is used as key word in argument to make the code more readable"
   ]
  },
  {
   "cell_type": "code",
   "execution_count": 32,
   "metadata": {},
   "outputs": [
    {
     "name": "stdout",
     "output_type": "stream",
     "text": [
      "3\n"
     ]
    }
   ],
   "source": [
    "def increment (number , by=1): #by=1 is optional parameter,  it alway comes after the priary parameter\n",
    "    return number + by\n",
    "\n",
    "\n",
    "print(increment(2)) #is incremented by 1 by defualt when a second argument is not passed"
   ]
  },
  {
   "cell_type": "code",
   "execution_count": 34,
   "metadata": {},
   "outputs": [
    {
     "name": "stdout",
     "output_type": "stream",
     "text": [
      "7\n"
     ]
    }
   ],
   "source": [
    "def increment (number , by=1):\n",
    "    return number + by\n",
    "\n",
    "\n",
    "print(increment(2,5)) "
   ]
  },
  {
   "cell_type": "markdown",
   "metadata": {},
   "source": [
    "# *arguments:\n",
    "    Collection of arguments"
   ]
  },
  {
   "cell_type": "code",
   "execution_count": 35,
   "metadata": {},
   "outputs": [
    {
     "name": "stdout",
     "output_type": "stream",
     "text": [
      "(2, 3, 4, 5)\n"
     ]
    }
   ],
   "source": [
    "def multiply(*numbers):\n",
    "    print(numbers)\n",
    "    \n",
    "multiply (2 , 3, 4, 5)"
   ]
  },
  {
   "cell_type": "markdown",
   "metadata": {},
   "source": [
    "Note: In the above code (2, 3, 4, 5) is a tuple, it is similar to list. \n",
    "    The difference is that we can modify a list but can not modify a tuple\n",
    "Note: tuple is iterable , i.e it can be used in a for loop"
   ]
  },
  {
   "cell_type": "code",
   "execution_count": 38,
   "metadata": {},
   "outputs": [
    {
     "data": {
      "text/plain": [
       "120"
      ]
     },
     "execution_count": 38,
     "metadata": {},
     "output_type": "execute_result"
    }
   ],
   "source": [
    "def multiply(*numbers):\n",
    "    total=1\n",
    "    for number in numbers:\n",
    "        total *= number #total = total * number\n",
    "    return total\n",
    "multiply (2 , 3, 4, 5)"
   ]
  },
  {
   "cell_type": "markdown",
   "metadata": {},
   "source": [
    "# **Arguments:\n",
    "    Can pass multiple keword argument"
   ]
  },
  {
   "cell_type": "code",
   "execution_count": 44,
   "metadata": {},
   "outputs": [
    {
     "name": "stdout",
     "output_type": "stream",
     "text": [
      "{'ID': 35, 'Name': 'Mehmood', 'Age': 22}\n"
     ]
    }
   ],
   "source": [
    "def save_user(**user):\n",
    "    print(user)\n",
    "    \n",
    "save_user(ID=35, Name= \"Mehmood\" , Age=22)"
   ]
  },
  {
   "cell_type": "markdown",
   "metadata": {},
   "source": [
    "Note: In the above example {'ID': 35, 'Name': 'Mehmood', 'Age': 22} is an object called dictionary, it's a complex type or data sturucture in Python"
   ]
  },
  {
   "cell_type": "code",
   "execution_count": 48,
   "metadata": {},
   "outputs": [
    {
     "name": "stdout",
     "output_type": "stream",
     "text": [
      "35\n"
     ]
    }
   ],
   "source": [
    "def save_user(**user):\n",
    "    print(user[\"ID\"])\n",
    "    \n",
    "save_user(ID=35, Name= \"Mehmood\" , Age=22)"
   ]
  },
  {
   "cell_type": "markdown",
   "metadata": {},
   "source": [
    "# Scope"
   ]
  },
  {
   "cell_type": "code",
   "execution_count": 59,
   "metadata": {},
   "outputs": [
    {
     "ename": "NameError",
     "evalue": "name 'message2' is not defined",
     "output_type": "error",
     "traceback": [
      "\u001b[1;31m---------------------------------------------------------------------------\u001b[0m",
      "\u001b[1;31mNameError\u001b[0m                                 Traceback (most recent call last)",
      "\u001b[1;32m<ipython-input-59-a41b9506d2a7>\u001b[0m in \u001b[0;36m<module>\u001b[1;34m\u001b[0m\n\u001b[0;32m      2\u001b[0m     \u001b[0mmessage2\u001b[0m \u001b[1;33m=\u001b[0m \u001b[1;34m\"b\"\u001b[0m \u001b[1;31m#message2 is a variable whose scope is greet, without calling greet message doesn't exist in the program\u001b[0m\u001b[1;33m\u001b[0m\u001b[1;33m\u001b[0m\u001b[0m\n\u001b[0;32m      3\u001b[0m                    \u001b[1;31m#message2 is a local variable\u001b[0m\u001b[1;33m\u001b[0m\u001b[1;33m\u001b[0m\u001b[1;33m\u001b[0m\u001b[0m\n\u001b[1;32m----> 4\u001b[1;33m \u001b[0mprint\u001b[0m\u001b[1;33m(\u001b[0m\u001b[0mmessage2\u001b[0m\u001b[1;33m)\u001b[0m\u001b[1;33m\u001b[0m\u001b[1;33m\u001b[0m\u001b[0m\n\u001b[0m",
      "\u001b[1;31mNameError\u001b[0m: name 'message2' is not defined"
     ]
    }
   ],
   "source": [
    "def greet():\n",
    "    message2 = \"b\" #message2 is a variable whose scope is greet, without calling greet message doesn't exist in the program   \n",
    "                   #message2 is a local variable\n",
    "print(message2)"
   ]
  },
  {
   "cell_type": "markdown",
   "metadata": {},
   "source": [
    "# Exercise"
   ]
  },
  {
   "cell_type": "code",
   "execution_count": 10,
   "metadata": {},
   "outputs": [
    {
     "data": {
      "text/plain": [
       "'fizzbuzz'"
      ]
     },
     "execution_count": 10,
     "metadata": {},
     "output_type": "execute_result"
    }
   ],
   "source": [
    "def fizz_buzz(input):\n",
    "    if input % 3 ==0 and input % 5 == 0:\n",
    "        return \"fizzbuzz\"\n",
    "    if input % 3 ==0:\n",
    "        return \"fizz\"\n",
    "    if input % 5 == 0:\n",
    "        return \"buzz\"\n",
    "    return input\n",
    "fizz_buzz(15)"
   ]
  }
 ],
 "metadata": {
  "kernelspec": {
   "display_name": "Python 3",
   "language": "python",
   "name": "python3"
  },
  "language_info": {
   "codemirror_mode": {
    "name": "ipython",
    "version": 3
   },
   "file_extension": ".py",
   "mimetype": "text/x-python",
   "name": "python",
   "nbconvert_exporter": "python",
   "pygments_lexer": "ipython3",
   "version": "3.7.3"
  }
 },
 "nbformat": 4,
 "nbformat_minor": 2
}
